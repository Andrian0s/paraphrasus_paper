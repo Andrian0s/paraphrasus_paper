{
 "cells": [
  {
   "cell_type": "code",
   "id": "initial_id",
   "metadata": {
    "collapsed": true,
    "ExecuteTime": {
     "end_time": "2024-12-15T20:52:28.714173Z",
     "start_time": "2024-12-15T20:52:28.280852Z"
    }
   },
   "source": [
    "import os, json, re\n",
    "from benchmarking import dataset_key_to_base_fname, get_bench_path\n",
    "from typing import Dict, Any\n",
    "from collections import defaultdict\n",
    "\n",
    "\n",
    "\n",
    "\n",
    "def cleanup_files(path):\n",
    "    for key, base_name in dataset_key_to_base_fname.items():\n",
    "        if \"stsbenchmark\" in key:\n",
    "            dupes = defaultdict(list)\n",
    "            json_path = os.path.join(path, f\"{base_name}.json\")\n",
    "            with open(json_path, 'r') as f:\n",
    "                records: Dict[str, Dict[str, Any]] = json.load(f)\n",
    "            new_dict = {}\n",
    "            for id, record in records.items():\n",
    "                match = re.match(r\"^(stsbenchmark-(\\d+)|mteb/stsbenchmark-sts-(\\d+))$\", id)\n",
    "                if match:\n",
    "                # Extract the integer part from the appropriate group\n",
    "                    i = int(match.group(2) or match.group(3))\n",
    "                    # print(f\"ID: {id}, i: {i}\")\n",
    "                    new_id = f\"stsbenchmark-{i}\"\n",
    "                    dupes[new_id].append(id)\n",
    "                    new_dict[new_id] = record\n",
    "                else:\n",
    "                    print(f\"Invalid ID format: {id}\")\n",
    "                    exit(1)\n",
    "                    break\n",
    "            for i, k in dupes.items():\n",
    "                if len(k) > 1:\n",
    "                    print(f\"Duplicate IDs: {\", \".join(k)}\")\n",
    "            print(base_name)\n",
    "            json_path2 = os.path.join(path, f\"fixed_{base_name}.json\")\n",
    "            with open(json_path, 'w') as f:\n",
    "                json.dump(new_dict, f, indent=2, ensure_ascii=False)\n",
    "            # id = f\"stsbenchmark-{i}\"\n",
    "        elif \"sickr_sts\" in key:\n",
    "            dupes = defaultdict(list)\n",
    "            json_path = os.path.join(path, f\"{base_name}.json\")\n",
    "            with open(json_path, 'r') as f:\n",
    "                records: Dict[str, Dict[str, Any]] = json.load(f)\n",
    "            new_dict = {}\n",
    "            for id, record in records.items():\n",
    "                match = re.match(r\"^(mteb/sickr-sts-(\\d+)|sick-r-(\\d+))$\", id)\n",
    "                if match:\n",
    "                # Extract the integer part from the appropriate group\n",
    "                    i = int(match.group(2) or match.group(3) or match.group(4))\n",
    "                    # print(f\"ID: {id}, i: {i}\")\n",
    "                    new_id = f\"sick-r-{i}\"\n",
    "                    dupes[new_id].append(id)\n",
    "                    new_dict[new_id] = record\n",
    "                else:\n",
    "                    print(f\"Invalid ID format: {id}\")\n",
    "                    exit(1)\n",
    "                    break\n",
    "            for i, k in dupes.items():\n",
    "                if len(k) > 1:\n",
    "                    print(f\"Duplicate IDs: {\", \".join(k)}\")\n",
    "            print(base_name)\n",
    "            with open(json_path, 'w') as f:\n",
    "                json.dump(new_dict, f, indent=2, ensure_ascii=False)\n",
    "\n",
    "bens = [\"paper\"\n",
    "    , \"llama3_3_70b\"\n",
    "        ]\n",
    "for b in bens:\n",
    "    p = get_bench_path(b)\n",
    "    cleanup_files(p)\n",
    "cleanup_files(\"datasets_no_results\")"
   ],
   "outputs": [
    {
     "name": "stdout",
     "output_type": "stream",
     "text": [
      "stsbenchmark-test-sts\n",
      "sickr-sts\n",
      "stsbenchmark-test-sts\n",
      "sickr-sts\n",
      "stsbenchmark-test-sts\n",
      "sickr-sts\n"
     ]
    }
   ],
   "execution_count": 6
  },
  {
   "metadata": {},
   "cell_type": "code",
   "outputs": [],
   "execution_count": null,
   "source": "",
   "id": "377196759b68e7e4"
  }
 ],
 "metadata": {
  "kernelspec": {
   "display_name": "Python 3",
   "language": "python",
   "name": "python3"
  },
  "language_info": {
   "codemirror_mode": {
    "name": "ipython",
    "version": 2
   },
   "file_extension": ".py",
   "mimetype": "text/x-python",
   "name": "python",
   "nbconvert_exporter": "python",
   "pygments_lexer": "ipython2",
   "version": "2.7.6"
  }
 },
 "nbformat": 4,
 "nbformat_minor": 5
}
